{
 "cells": [
  {
   "attachments": {},
   "cell_type": "markdown",
   "metadata": {},
   "source": [
    "Importación de librerias a utilizar"
   ]
  },
  {
   "cell_type": "code",
   "execution_count": 89,
   "metadata": {},
   "outputs": [],
   "source": [
    "import pandas as pd\n",
    "import seaborn as sns\n",
    "import matplotlib.pyplot as plt\n",
    "import numpy as np\n",
    "import datetime"
   ]
  },
  {
   "attachments": {},
   "cell_type": "markdown",
   "metadata": {},
   "source": [
    "Se importa el arhico csv y se guarda en la varible \"depositos\""
   ]
  },
  {
   "cell_type": "code",
   "execution_count": 90,
   "metadata": {},
   "outputs": [],
   "source": [
    "depositos = pd.read_csv(\"depositos_oinks.csv\")"
   ]
  },
  {
   "attachments": {},
   "cell_type": "markdown",
   "metadata": {},
   "source": [
    "Observamos el data set, con cada uno de sus columnas (features)"
   ]
  },
  {
   "cell_type": "code",
   "execution_count": 91,
   "metadata": {},
   "outputs": [
    {
     "data": {
      "text/html": [
       "<div>\n",
       "<style scoped>\n",
       "    .dataframe tbody tr th:only-of-type {\n",
       "        vertical-align: middle;\n",
       "    }\n",
       "\n",
       "    .dataframe tbody tr th {\n",
       "        vertical-align: top;\n",
       "    }\n",
       "\n",
       "    .dataframe thead th {\n",
       "        text-align: right;\n",
       "    }\n",
       "</style>\n",
       "<table border=\"1\" class=\"dataframe\">\n",
       "  <thead>\n",
       "    <tr style=\"text-align: right;\">\n",
       "      <th></th>\n",
       "      <th>Unnamed: 0</th>\n",
       "      <th>user_id</th>\n",
       "      <th>operation_value</th>\n",
       "      <th>operation_date</th>\n",
       "      <th>maplocation_name</th>\n",
       "      <th>user_createddate</th>\n",
       "    </tr>\n",
       "  </thead>\n",
       "  <tbody>\n",
       "    <tr>\n",
       "      <th>0</th>\n",
       "      <td>0</td>\n",
       "      <td>0e52d550-ae23-407a-9b1f-6e5fb1f066ab</td>\n",
       "      <td>273850.0</td>\n",
       "      <td>2022-01-14 13:07:56</td>\n",
       "      <td>CC Plaza de las Américas  - Plaza Mariposa</td>\n",
       "      <td>2022-01-09 19:23:18.332689</td>\n",
       "    </tr>\n",
       "    <tr>\n",
       "      <th>1</th>\n",
       "      <td>1</td>\n",
       "      <td>975ed41e-d891-4c23-aeba-06363019d8e3</td>\n",
       "      <td>900.0</td>\n",
       "      <td>2022-02-06 13:11:25</td>\n",
       "      <td>CC Plaza de las Américas  - Plaza Mariposa</td>\n",
       "      <td>2022-01-10 15:19:29.419075</td>\n",
       "    </tr>\n",
       "    <tr>\n",
       "      <th>2</th>\n",
       "      <td>2</td>\n",
       "      <td>f9043545-dfc2-402f-a8c7-0a61f21cb719</td>\n",
       "      <td>1800.0</td>\n",
       "      <td>2022-02-23 14:01:56</td>\n",
       "      <td>Universidad de los Andes - ML Piso 5</td>\n",
       "      <td>2021-08-25 12:44:48.524941</td>\n",
       "    </tr>\n",
       "    <tr>\n",
       "      <th>3</th>\n",
       "      <td>3</td>\n",
       "      <td>979ca8ad-9600-4a1f-81e9-e70c2f55cdc5</td>\n",
       "      <td>6500.0</td>\n",
       "      <td>2021-12-16 12:09:45</td>\n",
       "      <td>CC Plaza de las Américas  - Plaza Mariposa</td>\n",
       "      <td>2021-07-17 17:11:16.766291</td>\n",
       "    </tr>\n",
       "    <tr>\n",
       "      <th>4</th>\n",
       "      <td>4</td>\n",
       "      <td>171db06e-2e4b-4542-a9c9-32028520fda4</td>\n",
       "      <td>150000.0</td>\n",
       "      <td>2022-01-25 12:00:18</td>\n",
       "      <td>CC Plaza de las Américas  - Plaza Mariposa</td>\n",
       "      <td>2022-01-11 15:59:27.651994</td>\n",
       "    </tr>\n",
       "  </tbody>\n",
       "</table>\n",
       "</div>"
      ],
      "text/plain": [
       "   Unnamed: 0                               user_id  operation_value  \\\n",
       "0           0  0e52d550-ae23-407a-9b1f-6e5fb1f066ab         273850.0   \n",
       "1           1  975ed41e-d891-4c23-aeba-06363019d8e3            900.0   \n",
       "2           2  f9043545-dfc2-402f-a8c7-0a61f21cb719           1800.0   \n",
       "3           3  979ca8ad-9600-4a1f-81e9-e70c2f55cdc5           6500.0   \n",
       "4           4  171db06e-2e4b-4542-a9c9-32028520fda4         150000.0   \n",
       "\n",
       "        operation_date                            maplocation_name  \\\n",
       "0  2022-01-14 13:07:56  CC Plaza de las Américas  - Plaza Mariposa   \n",
       "1  2022-02-06 13:11:25  CC Plaza de las Américas  - Plaza Mariposa   \n",
       "2  2022-02-23 14:01:56        Universidad de los Andes - ML Piso 5   \n",
       "3  2021-12-16 12:09:45  CC Plaza de las Américas  - Plaza Mariposa   \n",
       "4  2022-01-25 12:00:18  CC Plaza de las Américas  - Plaza Mariposa   \n",
       "\n",
       "             user_createddate  \n",
       "0  2022-01-09 19:23:18.332689  \n",
       "1  2022-01-10 15:19:29.419075  \n",
       "2  2021-08-25 12:44:48.524941  \n",
       "3  2021-07-17 17:11:16.766291  \n",
       "4  2022-01-11 15:59:27.651994  "
      ]
     },
     "execution_count": 91,
     "metadata": {},
     "output_type": "execute_result"
    }
   ],
   "source": [
    "depositos.head()"
   ]
  },
  {
   "cell_type": "code",
   "execution_count": 92,
   "metadata": {},
   "outputs": [
    {
     "name": "stdout",
     "output_type": "stream",
     "text": [
      "<class 'pandas.core.frame.DataFrame'>\n",
      "RangeIndex: 4345 entries, 0 to 4344\n",
      "Data columns (total 6 columns):\n",
      " #   Column            Non-Null Count  Dtype  \n",
      "---  ------            --------------  -----  \n",
      " 0   Unnamed: 0        4345 non-null   int64  \n",
      " 1   user_id           4345 non-null   object \n",
      " 2   operation_value   4345 non-null   float64\n",
      " 3   operation_date    4345 non-null   object \n",
      " 4   maplocation_name  4345 non-null   object \n",
      " 5   user_createddate  4345 non-null   object \n",
      "dtypes: float64(1), int64(1), object(4)\n",
      "memory usage: 203.8+ KB\n"
     ]
    }
   ],
   "source": [
    "depositos.info()"
   ]
  },
  {
   "attachments": {},
   "cell_type": "markdown",
   "metadata": {},
   "source": [
    "Se renombra la columna \"Unnamed: 0\" como \"usurioId\" la cual va a contener el Id de cada usuario y se elimina la columna \"user_id\" pues se reemplaza por la nueva columna generada, teniendo en cuenta que la columna \"user_id\" era muy confusa y larga."
   ]
  },
  {
   "cell_type": "code",
   "execution_count": 93,
   "metadata": {},
   "outputs": [],
   "source": [
    "depositos.rename(columns={\"Unnamed: 0\" : \"usuarioId\"}, inplace=True)\n",
    "depositos.drop(columns=['user_id'], inplace = True)"
   ]
  },
  {
   "attachments": {},
   "cell_type": "markdown",
   "metadata": {},
   "source": [
    "Se define que el usuarioId empiece desde 1000"
   ]
  },
  {
   "cell_type": "code",
   "execution_count": 94,
   "metadata": {},
   "outputs": [],
   "source": [
    "depositos[\"usuarioId\"] = depositos[\"usuarioId\"] + 1000"
   ]
  },
  {
   "cell_type": "code",
   "execution_count": 95,
   "metadata": {},
   "outputs": [
    {
     "data": {
      "text/html": [
       "<div>\n",
       "<style scoped>\n",
       "    .dataframe tbody tr th:only-of-type {\n",
       "        vertical-align: middle;\n",
       "    }\n",
       "\n",
       "    .dataframe tbody tr th {\n",
       "        vertical-align: top;\n",
       "    }\n",
       "\n",
       "    .dataframe thead th {\n",
       "        text-align: right;\n",
       "    }\n",
       "</style>\n",
       "<table border=\"1\" class=\"dataframe\">\n",
       "  <thead>\n",
       "    <tr style=\"text-align: right;\">\n",
       "      <th></th>\n",
       "      <th>usuarioId</th>\n",
       "      <th>operation_value</th>\n",
       "      <th>operation_date</th>\n",
       "      <th>maplocation_name</th>\n",
       "      <th>user_createddate</th>\n",
       "    </tr>\n",
       "  </thead>\n",
       "  <tbody>\n",
       "    <tr>\n",
       "      <th>0</th>\n",
       "      <td>1000</td>\n",
       "      <td>273850.0</td>\n",
       "      <td>2022-01-14 13:07:56</td>\n",
       "      <td>CC Plaza de las Américas  - Plaza Mariposa</td>\n",
       "      <td>2022-01-09 19:23:18.332689</td>\n",
       "    </tr>\n",
       "    <tr>\n",
       "      <th>1</th>\n",
       "      <td>1001</td>\n",
       "      <td>900.0</td>\n",
       "      <td>2022-02-06 13:11:25</td>\n",
       "      <td>CC Plaza de las Américas  - Plaza Mariposa</td>\n",
       "      <td>2022-01-10 15:19:29.419075</td>\n",
       "    </tr>\n",
       "    <tr>\n",
       "      <th>2</th>\n",
       "      <td>1002</td>\n",
       "      <td>1800.0</td>\n",
       "      <td>2022-02-23 14:01:56</td>\n",
       "      <td>Universidad de los Andes - ML Piso 5</td>\n",
       "      <td>2021-08-25 12:44:48.524941</td>\n",
       "    </tr>\n",
       "    <tr>\n",
       "      <th>3</th>\n",
       "      <td>1003</td>\n",
       "      <td>6500.0</td>\n",
       "      <td>2021-12-16 12:09:45</td>\n",
       "      <td>CC Plaza de las Américas  - Plaza Mariposa</td>\n",
       "      <td>2021-07-17 17:11:16.766291</td>\n",
       "    </tr>\n",
       "    <tr>\n",
       "      <th>4</th>\n",
       "      <td>1004</td>\n",
       "      <td>150000.0</td>\n",
       "      <td>2022-01-25 12:00:18</td>\n",
       "      <td>CC Plaza de las Américas  - Plaza Mariposa</td>\n",
       "      <td>2022-01-11 15:59:27.651994</td>\n",
       "    </tr>\n",
       "  </tbody>\n",
       "</table>\n",
       "</div>"
      ],
      "text/plain": [
       "   usuarioId  operation_value       operation_date  \\\n",
       "0       1000         273850.0  2022-01-14 13:07:56   \n",
       "1       1001            900.0  2022-02-06 13:11:25   \n",
       "2       1002           1800.0  2022-02-23 14:01:56   \n",
       "3       1003           6500.0  2021-12-16 12:09:45   \n",
       "4       1004         150000.0  2022-01-25 12:00:18   \n",
       "\n",
       "                             maplocation_name            user_createddate  \n",
       "0  CC Plaza de las Américas  - Plaza Mariposa  2022-01-09 19:23:18.332689  \n",
       "1  CC Plaza de las Américas  - Plaza Mariposa  2022-01-10 15:19:29.419075  \n",
       "2        Universidad de los Andes - ML Piso 5  2021-08-25 12:44:48.524941  \n",
       "3  CC Plaza de las Américas  - Plaza Mariposa  2021-07-17 17:11:16.766291  \n",
       "4  CC Plaza de las Américas  - Plaza Mariposa  2022-01-11 15:59:27.651994  "
      ]
     },
     "execution_count": 95,
     "metadata": {},
     "output_type": "execute_result"
    }
   ],
   "source": [
    "depositos.head()"
   ]
  },
  {
   "attachments": {},
   "cell_type": "markdown",
   "metadata": {},
   "source": [
    "Se puede observar que el archivo csv no presenta ningun valor faltante o nulo."
   ]
  },
  {
   "cell_type": "code",
   "execution_count": 96,
   "metadata": {},
   "outputs": [
    {
     "data": {
      "text/plain": [
       "usuarioId           0\n",
       "operation_value     0\n",
       "operation_date      0\n",
       "maplocation_name    0\n",
       "user_createddate    0\n",
       "dtype: int64"
      ]
     },
     "execution_count": 96,
     "metadata": {},
     "output_type": "execute_result"
    }
   ],
   "source": [
    "depositos.isnull().sum()"
   ]
  },
  {
   "attachments": {},
   "cell_type": "markdown",
   "metadata": {},
   "source": [
    "Se observa el tamaño del csv, 4345 filas y 6 columnas"
   ]
  },
  {
   "cell_type": "code",
   "execution_count": 97,
   "metadata": {},
   "outputs": [
    {
     "data": {
      "text/plain": [
       "(4345, 5)"
      ]
     },
     "execution_count": 97,
     "metadata": {},
     "output_type": "execute_result"
    }
   ],
   "source": [
    "depositos.shape"
   ]
  },
  {
   "attachments": {},
   "cell_type": "markdown",
   "metadata": {},
   "source": [
    "Se observa que el csv no tiene valores duplicados"
   ]
  },
  {
   "cell_type": "code",
   "execution_count": 98,
   "metadata": {},
   "outputs": [
    {
     "data": {
      "text/plain": [
       "0       False\n",
       "1       False\n",
       "2       False\n",
       "3       False\n",
       "4       False\n",
       "        ...  \n",
       "4340    False\n",
       "4341    False\n",
       "4342    False\n",
       "4343    False\n",
       "4344    False\n",
       "Length: 4345, dtype: bool"
      ]
     },
     "execution_count": 98,
     "metadata": {},
     "output_type": "execute_result"
    }
   ],
   "source": [
    "depositos.duplicated()"
   ]
  },
  {
   "attachments": {},
   "cell_type": "markdown",
   "metadata": {},
   "source": [
    "Se define la columna \"operation_value\", como la columna de interes. Entendiendose que es la columna que contiene el valor de cada operación realizada por el usuario, lo que nos demuestra la fidelidad o confianza del usuario para la empresa, al depositar mas o menos cantidad."
   ]
  },
  {
   "attachments": {},
   "cell_type": "markdown",
   "metadata": {},
   "source": [
    "Se cambia el tipo de dato de la columna \"operation_value\" a entero para poder trabajar mejor"
   ]
  },
  {
   "cell_type": "code",
   "execution_count": 99,
   "metadata": {},
   "outputs": [],
   "source": [
    "depositos[\"operation_value\"] = depositos[\"operation_value\"].astype(int)"
   ]
  },
  {
   "attachments": {},
   "cell_type": "markdown",
   "metadata": {},
   "source": [
    "Al cambiar el tipo de dato a entero la columna operation_value, se elimina un cero al final de cada cifra, por lo que es necesario volver a poner este numero en la cifra.\n",
    "\n",
    "Se crea una columna de ceros para poder unir la columna de operation_value y la del cero faltante. Posterior a esto cambiamos el tipo de dato de cada columna para poder realizar la concatenacion, en donde se crea la columna \"valor_deposito\". Finalmente se cambia el tipo de dato de la columna resultante a numerica para poder trabajar con ella, y se elimina la columna de ceros y la de operation value"
   ]
  },
  {
   "cell_type": "code",
   "execution_count": 100,
   "metadata": {},
   "outputs": [],
   "source": [
    "depositos[\"ceros\"] = 0\n",
    "depositos[\"operation_value\"] = depositos[\"operation_value\"].astype(str)\n",
    "depositos[\"ceros\"] = depositos[\"ceros\"].astype(str)\n",
    "depositos[\"valor_operacion\"] = depositos.operation_value.str.cat(depositos.ceros)\n"
   ]
  },
  {
   "cell_type": "code",
   "execution_count": 101,
   "metadata": {},
   "outputs": [],
   "source": [
    "depositos.drop(columns=['operation_value'], inplace = True)\n",
    "depositos.drop(columns=['ceros'], inplace = True)\n"
   ]
  },
  {
   "cell_type": "code",
   "execution_count": 102,
   "metadata": {},
   "outputs": [],
   "source": [
    "depositos[\"valor_operacion\"] = depositos.valor_operacion.astype(int)"
   ]
  },
  {
   "cell_type": "code",
   "execution_count": 103,
   "metadata": {},
   "outputs": [
    {
     "data": {
      "text/html": [
       "<div>\n",
       "<style scoped>\n",
       "    .dataframe tbody tr th:only-of-type {\n",
       "        vertical-align: middle;\n",
       "    }\n",
       "\n",
       "    .dataframe tbody tr th {\n",
       "        vertical-align: top;\n",
       "    }\n",
       "\n",
       "    .dataframe thead th {\n",
       "        text-align: right;\n",
       "    }\n",
       "</style>\n",
       "<table border=\"1\" class=\"dataframe\">\n",
       "  <thead>\n",
       "    <tr style=\"text-align: right;\">\n",
       "      <th></th>\n",
       "      <th>usuarioId</th>\n",
       "      <th>operation_date</th>\n",
       "      <th>maplocation_name</th>\n",
       "      <th>user_createddate</th>\n",
       "      <th>valor_operacion</th>\n",
       "    </tr>\n",
       "  </thead>\n",
       "  <tbody>\n",
       "    <tr>\n",
       "      <th>0</th>\n",
       "      <td>1000</td>\n",
       "      <td>2022-01-14 13:07:56</td>\n",
       "      <td>CC Plaza de las Américas  - Plaza Mariposa</td>\n",
       "      <td>2022-01-09 19:23:18.332689</td>\n",
       "      <td>2738500</td>\n",
       "    </tr>\n",
       "    <tr>\n",
       "      <th>1</th>\n",
       "      <td>1001</td>\n",
       "      <td>2022-02-06 13:11:25</td>\n",
       "      <td>CC Plaza de las Américas  - Plaza Mariposa</td>\n",
       "      <td>2022-01-10 15:19:29.419075</td>\n",
       "      <td>9000</td>\n",
       "    </tr>\n",
       "    <tr>\n",
       "      <th>2</th>\n",
       "      <td>1002</td>\n",
       "      <td>2022-02-23 14:01:56</td>\n",
       "      <td>Universidad de los Andes - ML Piso 5</td>\n",
       "      <td>2021-08-25 12:44:48.524941</td>\n",
       "      <td>18000</td>\n",
       "    </tr>\n",
       "    <tr>\n",
       "      <th>3</th>\n",
       "      <td>1003</td>\n",
       "      <td>2021-12-16 12:09:45</td>\n",
       "      <td>CC Plaza de las Américas  - Plaza Mariposa</td>\n",
       "      <td>2021-07-17 17:11:16.766291</td>\n",
       "      <td>65000</td>\n",
       "    </tr>\n",
       "    <tr>\n",
       "      <th>4</th>\n",
       "      <td>1004</td>\n",
       "      <td>2022-01-25 12:00:18</td>\n",
       "      <td>CC Plaza de las Américas  - Plaza Mariposa</td>\n",
       "      <td>2022-01-11 15:59:27.651994</td>\n",
       "      <td>1500000</td>\n",
       "    </tr>\n",
       "  </tbody>\n",
       "</table>\n",
       "</div>"
      ],
      "text/plain": [
       "   usuarioId       operation_date                            maplocation_name  \\\n",
       "0       1000  2022-01-14 13:07:56  CC Plaza de las Américas  - Plaza Mariposa   \n",
       "1       1001  2022-02-06 13:11:25  CC Plaza de las Américas  - Plaza Mariposa   \n",
       "2       1002  2022-02-23 14:01:56        Universidad de los Andes - ML Piso 5   \n",
       "3       1003  2021-12-16 12:09:45  CC Plaza de las Américas  - Plaza Mariposa   \n",
       "4       1004  2022-01-25 12:00:18  CC Plaza de las Américas  - Plaza Mariposa   \n",
       "\n",
       "             user_createddate  valor_operacion  \n",
       "0  2022-01-09 19:23:18.332689          2738500  \n",
       "1  2022-01-10 15:19:29.419075             9000  \n",
       "2  2021-08-25 12:44:48.524941            18000  \n",
       "3  2021-07-17 17:11:16.766291            65000  \n",
       "4  2022-01-11 15:59:27.651994          1500000  "
      ]
     },
     "execution_count": 103,
     "metadata": {},
     "output_type": "execute_result"
    }
   ],
   "source": [
    "depositos.head()"
   ]
  },
  {
   "attachments": {},
   "cell_type": "markdown",
   "metadata": {},
   "source": [
    "Se observan los valos estadisticos de la columna de interes. Mediana, minimo, desviacion estandar, etc."
   ]
  },
  {
   "cell_type": "code",
   "execution_count": 104,
   "metadata": {},
   "outputs": [
    {
     "data": {
      "text/plain": [
       "count    4.345000e+03\n",
       "mean     3.461835e+05\n",
       "std      1.071427e+06\n",
       "min      5.000000e+02\n",
       "25%      1.650000e+04\n",
       "50%      5.600000e+04\n",
       "75%      2.230000e+05\n",
       "max      2.595000e+07\n",
       "Name: valor_operacion, dtype: float64"
      ]
     },
     "execution_count": 104,
     "metadata": {},
     "output_type": "execute_result"
    }
   ],
   "source": [
    "depositos[\"valor_operacion\"].describe()"
   ]
  },
  {
   "attachments": {},
   "cell_type": "markdown",
   "metadata": {},
   "source": [
    "Promedio de la columna \"operation_value\"\n",
    "\n",
    "Se observa que la cantidad promedio depositada por el usuario es de 346.183"
   ]
  },
  {
   "cell_type": "code",
   "execution_count": 105,
   "metadata": {},
   "outputs": [
    {
     "data": {
      "text/plain": [
       "346183.5443037975"
      ]
     },
     "execution_count": 105,
     "metadata": {},
     "output_type": "execute_result"
    }
   ],
   "source": [
    "depositos[\"valor_operacion\"].mean()"
   ]
  },
  {
   "attachments": {},
   "cell_type": "markdown",
   "metadata": {},
   "source": [
    "Según los cuartiles observamos:\n",
    "\n",
    "El Q1 (cuartil 1) que representa el 25% de los depositos realidos por los usuarios, nos permite observar que los usuarios han depositado hasta 165.000. El Q2 (cuartil 2) nos dice que el 50% de los usuarios ha depositado hasta 560.000 y el Q3(cuartil 3) nos dice que el 75% de los usuarios ha depositado hasta 2.230.000. \n",
    "\n",
    "Por lo que apartir de estas cantidades, podemos realizar una clasificacion de la confianza depositada por el usuario en la plataforma.\n",
    "\n",
    "Podríamos realizar la sigueinte clasificación:\n",
    "\n",
    "de 0 - 165.000  confianza ---> aceptable\n",
    "de 166.000 - 560.000 confianza ---> buena\n",
    "de 561.000 - 2.230.000 confianza --> muy buena\n",
    "de 2.231.000 - 25.950.000 ---> excelente"
   ]
  },
  {
   "cell_type": "code",
   "execution_count": 106,
   "metadata": {},
   "outputs": [
    {
     "name": "stdout",
     "output_type": "stream",
     "text": [
      "0.25     16500.0\n",
      "0.50     56000.0\n",
      "0.75    223000.0\n",
      "Name: valor_operacion, dtype: float64\n"
     ]
    }
   ],
   "source": [
    "print(depositos.valor_operacion.quantile([.25, .5, .75]))"
   ]
  },
  {
   "attachments": {},
   "cell_type": "markdown",
   "metadata": {},
   "source": [
    "Se observa que el valor maximo depositado es 25.950.000, junto con el id de la persona, el lugar donde lo hizo, etc."
   ]
  },
  {
   "cell_type": "code",
   "execution_count": 107,
   "metadata": {},
   "outputs": [
    {
     "data": {
      "text/plain": [
       "usuarioId                                                 3666\n",
       "operation_date                             2022-02-05 19:59:48\n",
       "maplocation_name    CC Plaza de las Américas  - Plaza Mariposa\n",
       "user_createddate                    2021-12-23 18:20:05.241501\n",
       "valor_operacion                                       25950000\n",
       "Name: 2666, dtype: object"
      ]
     },
     "execution_count": 107,
     "metadata": {},
     "output_type": "execute_result"
    }
   ],
   "source": [
    "depositos.loc[depositos.valor_operacion.idxmax()]"
   ]
  },
  {
   "attachments": {},
   "cell_type": "markdown",
   "metadata": {},
   "source": [
    "Se observa que el valor minimo depositado es 500, junto con el id de la persona, el lugar donde lo hizo, etc."
   ]
  },
  {
   "cell_type": "code",
   "execution_count": 108,
   "metadata": {},
   "outputs": [
    {
     "data": {
      "text/plain": [
       "usuarioId                                            1024\n",
       "operation_date                        2022-01-29 18:32:36\n",
       "maplocation_name    CC Los Molinos - Zona Montaña Nivel 2\n",
       "user_createddate               2021-09-27 12:24:40.651370\n",
       "valor_operacion                                       500\n",
       "Name: 24, dtype: object"
      ]
     },
     "execution_count": 108,
     "metadata": {},
     "output_type": "execute_result"
    }
   ],
   "source": [
    "depositos.loc[depositos.valor_operacion.idxmin()]"
   ]
  },
  {
   "attachments": {},
   "cell_type": "markdown",
   "metadata": {},
   "source": [
    "Se observa un outlier o valor extremo en la columna \"valor_operacion\""
   ]
  },
  {
   "cell_type": "code",
   "execution_count": 109,
   "metadata": {},
   "outputs": [
    {
     "data": {
      "image/png": "[encoded data removed]",
      "text/plain": [
       "<Figure size 432x288 with 1 Axes>"
      ]
     },
     "metadata": {
      "needs_background": "light"
     },
     "output_type": "display_data"
    }
   ],
   "source": [
    "dep = depositos[\"valor_operacion\"].to_numpy()\n",
    "dep_unique, counts = np.unique(dep, return_counts=True)\n",
    " \n",
    "sizes = counts*100\n",
    "colors = ['blue']*len(dep_unique)\n",
    "colors[-1] = 'red'\n",
    "\n",
    " \n",
    "plt.axhline(1, color='k', linestyle='--')\n",
    "plt.scatter(dep_unique, np.ones(len(dep_unique)), s=sizes, color=colors)\n",
    "plt.yticks([])\n",
    "plt.show()"
   ]
  },
  {
   "attachments": {},
   "cell_type": "markdown",
   "metadata": {},
   "source": [
    "Según el histograma podemos ver que los datos se encuentran apilados o agrupados en un unico rango  [0-0.5], por lo que no existe casi dispersion entre ellos."
   ]
  },
  {
   "cell_type": "code",
   "execution_count": 110,
   "metadata": {},
   "outputs": [
    {
     "data": {
      "text/plain": [
       "<AxesSubplot: ylabel='Frequency'>"
      ]
     },
     "execution_count": 110,
     "metadata": {},
     "output_type": "execute_result"
    },
    {
     "data": {
      "image/png": "[encoded data removed]",
      "text/plain": [
       "<Figure size 432x288 with 1 Axes>"
      ]
     },
     "metadata": {
      "needs_background": "light"
     },
     "output_type": "display_data"
    }
   ],
   "source": [
    "depositos[\"valor_operacion\"].plot.hist()"
   ]
  },
  {
   "attachments": {},
   "cell_type": "markdown",
   "metadata": {},
   "source": [
    "Como se menciono anteriormente se realizara, la clasificación de los usuarios de la siguiente manera:\n",
    "\n",
    "0 - 165.000  confianza ---> aceptable\n",
    "166.000 - 560.000 confianza ---> buena\n",
    "561.000 - 2.230.000 confianza --> muy buena\n",
    "2.231.000 - 25.950.000 ---> excelente\n"
   ]
  },
  {
   "cell_type": "code",
   "execution_count": 111,
   "metadata": {},
   "outputs": [],
   "source": [
    "conditions = [(depositos[\"valor_operacion\"]<= 165000), \n",
    "               (depositos[\"valor_operacion\"]>= 166000) & (depositos[\"valor_operacion\"]<= 560000),\n",
    "               (depositos[\"valor_operacion\"]>= 561000) & (depositos[\"valor_operacion\"]<= 2230000),\n",
    "               (depositos[\"valor_operacion\"]>= 2231000) ]\n",
    "values = [\"aceptable\", \"buena\",\"muy_buena\", \"excelente\"]\n",
    "depositos[\"category_cliente\"] = np.select(conditions, values)"
   ]
  },
  {
   "cell_type": "code",
   "execution_count": 112,
   "metadata": {},
   "outputs": [
    {
     "data": {
      "text/html": [
       "<div>\n",
       "<style scoped>\n",
       "    .dataframe tbody tr th:only-of-type {\n",
       "        vertical-align: middle;\n",
       "    }\n",
       "\n",
       "    .dataframe tbody tr th {\n",
       "        vertical-align: top;\n",
       "    }\n",
       "\n",
       "    .dataframe thead th {\n",
       "        text-align: right;\n",
       "    }\n",
       "</style>\n",
       "<table border=\"1\" class=\"dataframe\">\n",
       "  <thead>\n",
       "    <tr style=\"text-align: right;\">\n",
       "      <th></th>\n",
       "      <th>usuarioId</th>\n",
       "      <th>operation_date</th>\n",
       "      <th>maplocation_name</th>\n",
       "      <th>user_createddate</th>\n",
       "      <th>valor_operacion</th>\n",
       "      <th>category_cliente</th>\n",
       "    </tr>\n",
       "  </thead>\n",
       "  <tbody>\n",
       "    <tr>\n",
       "      <th>0</th>\n",
       "      <td>1000</td>\n",
       "      <td>2022-01-14 13:07:56</td>\n",
       "      <td>CC Plaza de las Américas  - Plaza Mariposa</td>\n",
       "      <td>2022-01-09 19:23:18.332689</td>\n",
       "      <td>2738500</td>\n",
       "      <td>excelente</td>\n",
       "    </tr>\n",
       "    <tr>\n",
       "      <th>1</th>\n",
       "      <td>1001</td>\n",
       "      <td>2022-02-06 13:11:25</td>\n",
       "      <td>CC Plaza de las Américas  - Plaza Mariposa</td>\n",
       "      <td>2022-01-10 15:19:29.419075</td>\n",
       "      <td>9000</td>\n",
       "      <td>aceptable</td>\n",
       "    </tr>\n",
       "    <tr>\n",
       "      <th>2</th>\n",
       "      <td>1002</td>\n",
       "      <td>2022-02-23 14:01:56</td>\n",
       "      <td>Universidad de los Andes - ML Piso 5</td>\n",
       "      <td>2021-08-25 12:44:48.524941</td>\n",
       "      <td>18000</td>\n",
       "      <td>aceptable</td>\n",
       "    </tr>\n",
       "    <tr>\n",
       "      <th>3</th>\n",
       "      <td>1003</td>\n",
       "      <td>2021-12-16 12:09:45</td>\n",
       "      <td>CC Plaza de las Américas  - Plaza Mariposa</td>\n",
       "      <td>2021-07-17 17:11:16.766291</td>\n",
       "      <td>65000</td>\n",
       "      <td>aceptable</td>\n",
       "    </tr>\n",
       "    <tr>\n",
       "      <th>4</th>\n",
       "      <td>1004</td>\n",
       "      <td>2022-01-25 12:00:18</td>\n",
       "      <td>CC Plaza de las Américas  - Plaza Mariposa</td>\n",
       "      <td>2022-01-11 15:59:27.651994</td>\n",
       "      <td>1500000</td>\n",
       "      <td>muy_buena</td>\n",
       "    </tr>\n",
       "    <tr>\n",
       "      <th>...</th>\n",
       "      <td>...</td>\n",
       "      <td>...</td>\n",
       "      <td>...</td>\n",
       "      <td>...</td>\n",
       "      <td>...</td>\n",
       "      <td>...</td>\n",
       "    </tr>\n",
       "    <tr>\n",
       "      <th>4340</th>\n",
       "      <td>5340</td>\n",
       "      <td>2021-12-26 13:29:06</td>\n",
       "      <td>CC Los Molinos - Zona Montaña Nivel 2</td>\n",
       "      <td>2021-02-26 09:04:03.443362</td>\n",
       "      <td>8500</td>\n",
       "      <td>aceptable</td>\n",
       "    </tr>\n",
       "    <tr>\n",
       "      <th>4341</th>\n",
       "      <td>5341</td>\n",
       "      <td>2022-01-23 14:32:37</td>\n",
       "      <td>CC Los Molinos - Zona Montaña Nivel 2</td>\n",
       "      <td>2022-01-23 14:31:03.394729</td>\n",
       "      <td>18000</td>\n",
       "      <td>aceptable</td>\n",
       "    </tr>\n",
       "    <tr>\n",
       "      <th>4342</th>\n",
       "      <td>5342</td>\n",
       "      <td>2021-12-06 19:33:24</td>\n",
       "      <td>CC Plaza de las Américas  - Plaza Mariposa</td>\n",
       "      <td>2021-05-14 15:08:33.500127</td>\n",
       "      <td>35000</td>\n",
       "      <td>aceptable</td>\n",
       "    </tr>\n",
       "    <tr>\n",
       "      <th>4343</th>\n",
       "      <td>5343</td>\n",
       "      <td>2022-01-24 11:03:38</td>\n",
       "      <td>CC Los Molinos - Zona Montaña Nivel 2</td>\n",
       "      <td>2021-12-19 16:03:35.472917</td>\n",
       "      <td>1262000</td>\n",
       "      <td>muy_buena</td>\n",
       "    </tr>\n",
       "    <tr>\n",
       "      <th>4344</th>\n",
       "      <td>5344</td>\n",
       "      <td>2022-02-12 11:58:57</td>\n",
       "      <td>CC Plaza de las Américas  - Plaza Mariposa</td>\n",
       "      <td>2022-02-12 11:51:40.981069</td>\n",
       "      <td>1000</td>\n",
       "      <td>aceptable</td>\n",
       "    </tr>\n",
       "  </tbody>\n",
       "</table>\n",
       "<p>4345 rows × 6 columns</p>\n",
       "</div>"
      ],
      "text/plain": [
       "      usuarioId       operation_date  \\\n",
       "0          1000  2022-01-14 13:07:56   \n",
       "1          1001  2022-02-06 13:11:25   \n",
       "2          1002  2022-02-23 14:01:56   \n",
       "3          1003  2021-12-16 12:09:45   \n",
       "4          1004  2022-01-25 12:00:18   \n",
       "...         ...                  ...   \n",
       "4340       5340  2021-12-26 13:29:06   \n",
       "4341       5341  2022-01-23 14:32:37   \n",
       "4342       5342  2021-12-06 19:33:24   \n",
       "4343       5343  2022-01-24 11:03:38   \n",
       "4344       5344  2022-02-12 11:58:57   \n",
       "\n",
       "                                maplocation_name            user_createddate  \\\n",
       "0     CC Plaza de las Américas  - Plaza Mariposa  2022-01-09 19:23:18.332689   \n",
       "1     CC Plaza de las Américas  - Plaza Mariposa  2022-01-10 15:19:29.419075   \n",
       "2           Universidad de los Andes - ML Piso 5  2021-08-25 12:44:48.524941   \n",
       "3     CC Plaza de las Américas  - Plaza Mariposa  2021-07-17 17:11:16.766291   \n",
       "4     CC Plaza de las Américas  - Plaza Mariposa  2022-01-11 15:59:27.651994   \n",
       "...                                          ...                         ...   \n",
       "4340       CC Los Molinos - Zona Montaña Nivel 2  2021-02-26 09:04:03.443362   \n",
       "4341       CC Los Molinos - Zona Montaña Nivel 2  2022-01-23 14:31:03.394729   \n",
       "4342  CC Plaza de las Américas  - Plaza Mariposa  2021-05-14 15:08:33.500127   \n",
       "4343       CC Los Molinos - Zona Montaña Nivel 2  2021-12-19 16:03:35.472917   \n",
       "4344  CC Plaza de las Américas  - Plaza Mariposa  2022-02-12 11:51:40.981069   \n",
       "\n",
       "      valor_operacion category_cliente  \n",
       "0             2738500        excelente  \n",
       "1                9000        aceptable  \n",
       "2               18000        aceptable  \n",
       "3               65000        aceptable  \n",
       "4             1500000        muy_buena  \n",
       "...               ...              ...  \n",
       "4340             8500        aceptable  \n",
       "4341            18000        aceptable  \n",
       "4342            35000        aceptable  \n",
       "4343          1262000        muy_buena  \n",
       "4344             1000        aceptable  \n",
       "\n",
       "[4345 rows x 6 columns]"
      ]
     },
     "execution_count": 112,
     "metadata": {},
     "output_type": "execute_result"
    }
   ],
   "source": [
    "depositos"
   ]
  },
  {
   "attachments": {},
   "cell_type": "markdown",
   "metadata": {},
   "source": [
    "Observamos como quedan clasificados los usuarios y la cantidades correspondientes a cada clasificacion."
   ]
  },
  {
   "cell_type": "code",
   "execution_count": 113,
   "metadata": {},
   "outputs": [
    {
     "data": {
      "text/plain": [
       "aceptable    3056\n",
       "buena         697\n",
       "muy_buena     449\n",
       "excelente     143\n",
       "Name: category_cliente, dtype: int64"
      ]
     },
     "execution_count": 113,
     "metadata": {},
     "output_type": "execute_result"
    }
   ],
   "source": [
    "depositos[\"category_cliente\"].value_counts()"
   ]
  },
  {
   "cell_type": "code",
   "execution_count": 114,
   "metadata": {},
   "outputs": [
    {
     "data": {
      "text/plain": [
       "<AxesSubplot: >"
      ]
     },
     "execution_count": 114,
     "metadata": {},
     "output_type": "execute_result"
    },
    {
     "data": {
      "image/png": "[encoded data removed]",
      "text/plain": [
       "<Figure size 432x288 with 1 Axes>"
      ]
     },
     "metadata": {
      "needs_background": "light"
     },
     "output_type": "display_data"
    }
   ],
   "source": [
    "depositos[\"category_cliente\"].value_counts().plot(kind=\"bar\")"
   ]
  },
  {
   "attachments": {},
   "cell_type": "markdown",
   "metadata": {},
   "source": [
    "Se separan las columnas de operacion_date y se crean 2 columnas. Una con la fecha asociada a la operacion realizada y otra con la hora en la que se realizo esta operación.\n",
    "\n",
    "Se elimina la columna operation_date."
   ]
  },
  {
   "cell_type": "code",
   "execution_count": 115,
   "metadata": {},
   "outputs": [],
   "source": [
    "name=depositos[\"operation_date\"].str.split(expand=True)\n",
    "name.columns=[\"fecha_operacion\", \"hora_operacion\"]\n",
    "depositos=pd.concat([depositos, name], axis=1)"
   ]
  },
  {
   "cell_type": "code",
   "execution_count": 116,
   "metadata": {},
   "outputs": [],
   "source": [
    "depositos.drop(columns=['operation_date'], inplace = True)"
   ]
  },
  {
   "attachments": {},
   "cell_type": "markdown",
   "metadata": {},
   "source": [
    "Se separan la columna de user_createddate y se crean 2 columnas. Una con la fecha asociada a la creacion del usuario y otra con la hora en la que se creo el usuario.\n",
    "\n",
    "Se elimina la columna user_createddate."
   ]
  },
  {
   "cell_type": "code",
   "execution_count": 117,
   "metadata": {},
   "outputs": [],
   "source": [
    "name=depositos[\"user_createddate\"].str.split(expand=True)\n",
    "name.columns=[\"fecha_creacion_usuario\", \"hora_creacio_usuario\"]\n",
    "depositos=pd.concat([depositos, name], axis=1)"
   ]
  },
  {
   "cell_type": "code",
   "execution_count": 118,
   "metadata": {},
   "outputs": [],
   "source": [
    "depositos.drop(columns=['user_createddate'], inplace = True)"
   ]
  },
  {
   "cell_type": "code",
   "execution_count": 119,
   "metadata": {},
   "outputs": [
    {
     "data": {
      "text/html": [
       "<div>\n",
       "<style scoped>\n",
       "    .dataframe tbody tr th:only-of-type {\n",
       "        vertical-align: middle;\n",
       "    }\n",
       "\n",
       "    .dataframe tbody tr th {\n",
       "        vertical-align: top;\n",
       "    }\n",
       "\n",
       "    .dataframe thead th {\n",
       "        text-align: right;\n",
       "    }\n",
       "</style>\n",
       "<table border=\"1\" class=\"dataframe\">\n",
       "  <thead>\n",
       "    <tr style=\"text-align: right;\">\n",
       "      <th></th>\n",
       "      <th>usuarioId</th>\n",
       "      <th>maplocation_name</th>\n",
       "      <th>valor_operacion</th>\n",
       "      <th>category_cliente</th>\n",
       "      <th>fecha_operacion</th>\n",
       "      <th>hora_operacion</th>\n",
       "      <th>fecha_creacion_usuario</th>\n",
       "      <th>hora_creacio_usuario</th>\n",
       "    </tr>\n",
       "  </thead>\n",
       "  <tbody>\n",
       "    <tr>\n",
       "      <th>0</th>\n",
       "      <td>1000</td>\n",
       "      <td>CC Plaza de las Américas  - Plaza Mariposa</td>\n",
       "      <td>2738500</td>\n",
       "      <td>excelente</td>\n",
       "      <td>2022-01-14</td>\n",
       "      <td>13:07:56</td>\n",
       "      <td>2022-01-09</td>\n",
       "      <td>19:23:18.332689</td>\n",
       "    </tr>\n",
       "    <tr>\n",
       "      <th>1</th>\n",
       "      <td>1001</td>\n",
       "      <td>CC Plaza de las Américas  - Plaza Mariposa</td>\n",
       "      <td>9000</td>\n",
       "      <td>aceptable</td>\n",
       "      <td>2022-02-06</td>\n",
       "      <td>13:11:25</td>\n",
       "      <td>2022-01-10</td>\n",
       "      <td>15:19:29.419075</td>\n",
       "    </tr>\n",
       "    <tr>\n",
       "      <th>2</th>\n",
       "      <td>1002</td>\n",
       "      <td>Universidad de los Andes - ML Piso 5</td>\n",
       "      <td>18000</td>\n",
       "      <td>aceptable</td>\n",
       "      <td>2022-02-23</td>\n",
       "      <td>14:01:56</td>\n",
       "      <td>2021-08-25</td>\n",
       "      <td>12:44:48.524941</td>\n",
       "    </tr>\n",
       "    <tr>\n",
       "      <th>3</th>\n",
       "      <td>1003</td>\n",
       "      <td>CC Plaza de las Américas  - Plaza Mariposa</td>\n",
       "      <td>65000</td>\n",
       "      <td>aceptable</td>\n",
       "      <td>2021-12-16</td>\n",
       "      <td>12:09:45</td>\n",
       "      <td>2021-07-17</td>\n",
       "      <td>17:11:16.766291</td>\n",
       "    </tr>\n",
       "    <tr>\n",
       "      <th>4</th>\n",
       "      <td>1004</td>\n",
       "      <td>CC Plaza de las Américas  - Plaza Mariposa</td>\n",
       "      <td>1500000</td>\n",
       "      <td>muy_buena</td>\n",
       "      <td>2022-01-25</td>\n",
       "      <td>12:00:18</td>\n",
       "      <td>2022-01-11</td>\n",
       "      <td>15:59:27.651994</td>\n",
       "    </tr>\n",
       "    <tr>\n",
       "      <th>...</th>\n",
       "      <td>...</td>\n",
       "      <td>...</td>\n",
       "      <td>...</td>\n",
       "      <td>...</td>\n",
       "      <td>...</td>\n",
       "      <td>...</td>\n",
       "      <td>...</td>\n",
       "      <td>...</td>\n",
       "    </tr>\n",
       "    <tr>\n",
       "      <th>4340</th>\n",
       "      <td>5340</td>\n",
       "      <td>CC Los Molinos - Zona Montaña Nivel 2</td>\n",
       "      <td>8500</td>\n",
       "      <td>aceptable</td>\n",
       "      <td>2021-12-26</td>\n",
       "      <td>13:29:06</td>\n",
       "      <td>2021-02-26</td>\n",
       "      <td>09:04:03.443362</td>\n",
       "    </tr>\n",
       "    <tr>\n",
       "      <th>4341</th>\n",
       "      <td>5341</td>\n",
       "      <td>CC Los Molinos - Zona Montaña Nivel 2</td>\n",
       "      <td>18000</td>\n",
       "      <td>aceptable</td>\n",
       "      <td>2022-01-23</td>\n",
       "      <td>14:32:37</td>\n",
       "      <td>2022-01-23</td>\n",
       "      <td>14:31:03.394729</td>\n",
       "    </tr>\n",
       "    <tr>\n",
       "      <th>4342</th>\n",
       "      <td>5342</td>\n",
       "      <td>CC Plaza de las Américas  - Plaza Mariposa</td>\n",
       "      <td>35000</td>\n",
       "      <td>aceptable</td>\n",
       "      <td>2021-12-06</td>\n",
       "      <td>19:33:24</td>\n",
       "      <td>2021-05-14</td>\n",
       "      <td>15:08:33.500127</td>\n",
       "    </tr>\n",
       "    <tr>\n",
       "      <th>4343</th>\n",
       "      <td>5343</td>\n",
       "      <td>CC Los Molinos - Zona Montaña Nivel 2</td>\n",
       "      <td>1262000</td>\n",
       "      <td>muy_buena</td>\n",
       "      <td>2022-01-24</td>\n",
       "      <td>11:03:38</td>\n",
       "      <td>2021-12-19</td>\n",
       "      <td>16:03:35.472917</td>\n",
       "    </tr>\n",
       "    <tr>\n",
       "      <th>4344</th>\n",
       "      <td>5344</td>\n",
       "      <td>CC Plaza de las Américas  - Plaza Mariposa</td>\n",
       "      <td>1000</td>\n",
       "      <td>aceptable</td>\n",
       "      <td>2022-02-12</td>\n",
       "      <td>11:58:57</td>\n",
       "      <td>2022-02-12</td>\n",
       "      <td>11:51:40.981069</td>\n",
       "    </tr>\n",
       "  </tbody>\n",
       "</table>\n",
       "<p>4345 rows × 8 columns</p>\n",
       "</div>"
      ],
      "text/plain": [
       "      usuarioId                            maplocation_name  valor_operacion  \\\n",
       "0          1000  CC Plaza de las Américas  - Plaza Mariposa          2738500   \n",
       "1          1001  CC Plaza de las Américas  - Plaza Mariposa             9000   \n",
       "2          1002        Universidad de los Andes - ML Piso 5            18000   \n",
       "3          1003  CC Plaza de las Américas  - Plaza Mariposa            65000   \n",
       "4          1004  CC Plaza de las Américas  - Plaza Mariposa          1500000   \n",
       "...         ...                                         ...              ...   \n",
       "4340       5340       CC Los Molinos - Zona Montaña Nivel 2             8500   \n",
       "4341       5341       CC Los Molinos - Zona Montaña Nivel 2            18000   \n",
       "4342       5342  CC Plaza de las Américas  - Plaza Mariposa            35000   \n",
       "4343       5343       CC Los Molinos - Zona Montaña Nivel 2          1262000   \n",
       "4344       5344  CC Plaza de las Américas  - Plaza Mariposa             1000   \n",
       "\n",
       "     category_cliente fecha_operacion hora_operacion fecha_creacion_usuario  \\\n",
       "0           excelente      2022-01-14       13:07:56             2022-01-09   \n",
       "1           aceptable      2022-02-06       13:11:25             2022-01-10   \n",
       "2           aceptable      2022-02-23       14:01:56             2021-08-25   \n",
       "3           aceptable      2021-12-16       12:09:45             2021-07-17   \n",
       "4           muy_buena      2022-01-25       12:00:18             2022-01-11   \n",
       "...               ...             ...            ...                    ...   \n",
       "4340        aceptable      2021-12-26       13:29:06             2021-02-26   \n",
       "4341        aceptable      2022-01-23       14:32:37             2022-01-23   \n",
       "4342        aceptable      2021-12-06       19:33:24             2021-05-14   \n",
       "4343        muy_buena      2022-01-24       11:03:38             2021-12-19   \n",
       "4344        aceptable      2022-02-12       11:58:57             2022-02-12   \n",
       "\n",
       "     hora_creacio_usuario  \n",
       "0         19:23:18.332689  \n",
       "1         15:19:29.419075  \n",
       "2         12:44:48.524941  \n",
       "3         17:11:16.766291  \n",
       "4         15:59:27.651994  \n",
       "...                   ...  \n",
       "4340      09:04:03.443362  \n",
       "4341      14:31:03.394729  \n",
       "4342      15:08:33.500127  \n",
       "4343      16:03:35.472917  \n",
       "4344      11:51:40.981069  \n",
       "\n",
       "[4345 rows x 8 columns]"
      ]
     },
     "execution_count": 119,
     "metadata": {},
     "output_type": "execute_result"
    }
   ],
   "source": [
    "depositos"
   ]
  },
  {
   "attachments": {},
   "cell_type": "markdown",
   "metadata": {},
   "source": [
    "Se combia el tipo de dato de las columnas que contienen alguna fecha, al formato de fecha (datatime)"
   ]
  },
  {
   "cell_type": "code",
   "execution_count": 120,
   "metadata": {},
   "outputs": [],
   "source": [
    "depositos[\"fecha_operacion\"] = pd.to_datetime(depositos[\"fecha_operacion\"])\n",
    "depositos[\"fecha_creacion_usuario\"] = pd.to_datetime(depositos[\"fecha_creacion_usuario\"])"
   ]
  },
  {
   "attachments": {},
   "cell_type": "markdown",
   "metadata": {},
   "source": [
    "Se restan las fechas de creacion del usuario con la fecha en donde el usuario realizo la operacion, con el objetivo de saber cuanto tiempo se demoro el usuario en realizar el deposito. La diferencia se guarda en una nueva columna llamada \"diferencia fecha\"."
   ]
  },
  {
   "cell_type": "code",
   "execution_count": 121,
   "metadata": {},
   "outputs": [],
   "source": [
    "depositos[\"diferencia_fecha\"] = depositos[\"fecha_operacion\"] - depositos[\"fecha_creacion_usuario\"]"
   ]
  },
  {
   "cell_type": "code",
   "execution_count": 122,
   "metadata": {},
   "outputs": [
    {
     "data": {
      "text/html": [
       "<div>\n",
       "<style scoped>\n",
       "    .dataframe tbody tr th:only-of-type {\n",
       "        vertical-align: middle;\n",
       "    }\n",
       "\n",
       "    .dataframe tbody tr th {\n",
       "        vertical-align: top;\n",
       "    }\n",
       "\n",
       "    .dataframe thead th {\n",
       "        text-align: right;\n",
       "    }\n",
       "</style>\n",
       "<table border=\"1\" class=\"dataframe\">\n",
       "  <thead>\n",
       "    <tr style=\"text-align: right;\">\n",
       "      <th></th>\n",
       "      <th>usuarioId</th>\n",
       "      <th>maplocation_name</th>\n",
       "      <th>valor_operacion</th>\n",
       "      <th>category_cliente</th>\n",
       "      <th>fecha_operacion</th>\n",
       "      <th>hora_operacion</th>\n",
       "      <th>fecha_creacion_usuario</th>\n",
       "      <th>hora_creacio_usuario</th>\n",
       "      <th>diferencia_fecha</th>\n",
       "    </tr>\n",
       "  </thead>\n",
       "  <tbody>\n",
       "    <tr>\n",
       "      <th>0</th>\n",
       "      <td>1000</td>\n",
       "      <td>CC Plaza de las Américas  - Plaza Mariposa</td>\n",
       "      <td>2738500</td>\n",
       "      <td>excelente</td>\n",
       "      <td>2022-01-14</td>\n",
       "      <td>13:07:56</td>\n",
       "      <td>2022-01-09</td>\n",
       "      <td>19:23:18.332689</td>\n",
       "      <td>5 days</td>\n",
       "    </tr>\n",
       "    <tr>\n",
       "      <th>1</th>\n",
       "      <td>1001</td>\n",
       "      <td>CC Plaza de las Américas  - Plaza Mariposa</td>\n",
       "      <td>9000</td>\n",
       "      <td>aceptable</td>\n",
       "      <td>2022-02-06</td>\n",
       "      <td>13:11:25</td>\n",
       "      <td>2022-01-10</td>\n",
       "      <td>15:19:29.419075</td>\n",
       "      <td>27 days</td>\n",
       "    </tr>\n",
       "    <tr>\n",
       "      <th>2</th>\n",
       "      <td>1002</td>\n",
       "      <td>Universidad de los Andes - ML Piso 5</td>\n",
       "      <td>18000</td>\n",
       "      <td>aceptable</td>\n",
       "      <td>2022-02-23</td>\n",
       "      <td>14:01:56</td>\n",
       "      <td>2021-08-25</td>\n",
       "      <td>12:44:48.524941</td>\n",
       "      <td>182 days</td>\n",
       "    </tr>\n",
       "    <tr>\n",
       "      <th>3</th>\n",
       "      <td>1003</td>\n",
       "      <td>CC Plaza de las Américas  - Plaza Mariposa</td>\n",
       "      <td>65000</td>\n",
       "      <td>aceptable</td>\n",
       "      <td>2021-12-16</td>\n",
       "      <td>12:09:45</td>\n",
       "      <td>2021-07-17</td>\n",
       "      <td>17:11:16.766291</td>\n",
       "      <td>152 days</td>\n",
       "    </tr>\n",
       "    <tr>\n",
       "      <th>4</th>\n",
       "      <td>1004</td>\n",
       "      <td>CC Plaza de las Américas  - Plaza Mariposa</td>\n",
       "      <td>1500000</td>\n",
       "      <td>muy_buena</td>\n",
       "      <td>2022-01-25</td>\n",
       "      <td>12:00:18</td>\n",
       "      <td>2022-01-11</td>\n",
       "      <td>15:59:27.651994</td>\n",
       "      <td>14 days</td>\n",
       "    </tr>\n",
       "    <tr>\n",
       "      <th>...</th>\n",
       "      <td>...</td>\n",
       "      <td>...</td>\n",
       "      <td>...</td>\n",
       "      <td>...</td>\n",
       "      <td>...</td>\n",
       "      <td>...</td>\n",
       "      <td>...</td>\n",
       "      <td>...</td>\n",
       "      <td>...</td>\n",
       "    </tr>\n",
       "    <tr>\n",
       "      <th>4340</th>\n",
       "      <td>5340</td>\n",
       "      <td>CC Los Molinos - Zona Montaña Nivel 2</td>\n",
       "      <td>8500</td>\n",
       "      <td>aceptable</td>\n",
       "      <td>2021-12-26</td>\n",
       "      <td>13:29:06</td>\n",
       "      <td>2021-02-26</td>\n",
       "      <td>09:04:03.443362</td>\n",
       "      <td>303 days</td>\n",
       "    </tr>\n",
       "    <tr>\n",
       "      <th>4341</th>\n",
       "      <td>5341</td>\n",
       "      <td>CC Los Molinos - Zona Montaña Nivel 2</td>\n",
       "      <td>18000</td>\n",
       "      <td>aceptable</td>\n",
       "      <td>2022-01-23</td>\n",
       "      <td>14:32:37</td>\n",
       "      <td>2022-01-23</td>\n",
       "      <td>14:31:03.394729</td>\n",
       "      <td>0 days</td>\n",
       "    </tr>\n",
       "    <tr>\n",
       "      <th>4342</th>\n",
       "      <td>5342</td>\n",
       "      <td>CC Plaza de las Américas  - Plaza Mariposa</td>\n",
       "      <td>35000</td>\n",
       "      <td>aceptable</td>\n",
       "      <td>2021-12-06</td>\n",
       "      <td>19:33:24</td>\n",
       "      <td>2021-05-14</td>\n",
       "      <td>15:08:33.500127</td>\n",
       "      <td>206 days</td>\n",
       "    </tr>\n",
       "    <tr>\n",
       "      <th>4343</th>\n",
       "      <td>5343</td>\n",
       "      <td>CC Los Molinos - Zona Montaña Nivel 2</td>\n",
       "      <td>1262000</td>\n",
       "      <td>muy_buena</td>\n",
       "      <td>2022-01-24</td>\n",
       "      <td>11:03:38</td>\n",
       "      <td>2021-12-19</td>\n",
       "      <td>16:03:35.472917</td>\n",
       "      <td>36 days</td>\n",
       "    </tr>\n",
       "    <tr>\n",
       "      <th>4344</th>\n",
       "      <td>5344</td>\n",
       "      <td>CC Plaza de las Américas  - Plaza Mariposa</td>\n",
       "      <td>1000</td>\n",
       "      <td>aceptable</td>\n",
       "      <td>2022-02-12</td>\n",
       "      <td>11:58:57</td>\n",
       "      <td>2022-02-12</td>\n",
       "      <td>11:51:40.981069</td>\n",
       "      <td>0 days</td>\n",
       "    </tr>\n",
       "  </tbody>\n",
       "</table>\n",
       "<p>4345 rows × 9 columns</p>\n",
       "</div>"
      ],
      "text/plain": [
       "      usuarioId                            maplocation_name  valor_operacion  \\\n",
       "0          1000  CC Plaza de las Américas  - Plaza Mariposa          2738500   \n",
       "1          1001  CC Plaza de las Américas  - Plaza Mariposa             9000   \n",
       "2          1002        Universidad de los Andes - ML Piso 5            18000   \n",
       "3          1003  CC Plaza de las Américas  - Plaza Mariposa            65000   \n",
       "4          1004  CC Plaza de las Américas  - Plaza Mariposa          1500000   \n",
       "...         ...                                         ...              ...   \n",
       "4340       5340       CC Los Molinos - Zona Montaña Nivel 2             8500   \n",
       "4341       5341       CC Los Molinos - Zona Montaña Nivel 2            18000   \n",
       "4342       5342  CC Plaza de las Américas  - Plaza Mariposa            35000   \n",
       "4343       5343       CC Los Molinos - Zona Montaña Nivel 2          1262000   \n",
       "4344       5344  CC Plaza de las Américas  - Plaza Mariposa             1000   \n",
       "\n",
       "     category_cliente fecha_operacion hora_operacion fecha_creacion_usuario  \\\n",
       "0           excelente      2022-01-14       13:07:56             2022-01-09   \n",
       "1           aceptable      2022-02-06       13:11:25             2022-01-10   \n",
       "2           aceptable      2022-02-23       14:01:56             2021-08-25   \n",
       "3           aceptable      2021-12-16       12:09:45             2021-07-17   \n",
       "4           muy_buena      2022-01-25       12:00:18             2022-01-11   \n",
       "...               ...             ...            ...                    ...   \n",
       "4340        aceptable      2021-12-26       13:29:06             2021-02-26   \n",
       "4341        aceptable      2022-01-23       14:32:37             2022-01-23   \n",
       "4342        aceptable      2021-12-06       19:33:24             2021-05-14   \n",
       "4343        muy_buena      2022-01-24       11:03:38             2021-12-19   \n",
       "4344        aceptable      2022-02-12       11:58:57             2022-02-12   \n",
       "\n",
       "     hora_creacio_usuario diferencia_fecha  \n",
       "0         19:23:18.332689           5 days  \n",
       "1         15:19:29.419075          27 days  \n",
       "2         12:44:48.524941         182 days  \n",
       "3         17:11:16.766291         152 days  \n",
       "4         15:59:27.651994          14 days  \n",
       "...                   ...              ...  \n",
       "4340      09:04:03.443362         303 days  \n",
       "4341      14:31:03.394729           0 days  \n",
       "4342      15:08:33.500127         206 days  \n",
       "4343      16:03:35.472917          36 days  \n",
       "4344      11:51:40.981069           0 days  \n",
       "\n",
       "[4345 rows x 9 columns]"
      ]
     },
     "execution_count": 122,
     "metadata": {},
     "output_type": "execute_result"
    }
   ],
   "source": [
    "depositos"
   ]
  },
  {
   "attachments": {},
   "cell_type": "markdown",
   "metadata": {},
   "source": [
    "Observamos que el promedio de los dias en que el usuario creo su cuenta y realizo el deposito es de 147 días."
   ]
  },
  {
   "cell_type": "code",
   "execution_count": 123,
   "metadata": {},
   "outputs": [
    {
     "data": {
      "text/plain": [
       "Timedelta('147 days 16:51:48.676639816')"
      ]
     },
     "execution_count": 123,
     "metadata": {},
     "output_type": "execute_result"
    }
   ],
   "source": [
    "depositos[\"diferencia_fecha\"].mean()"
   ]
  },
  {
   "attachments": {},
   "cell_type": "markdown",
   "metadata": {},
   "source": [
    "Se observan los cuartiles al igual que en la columna de la cantidad depositada. Por lo que usaremos esta herramienta estadistica, que nos dice como se distribuyen los datos para realizar la clasificación. Teniendo en cuenta que a menor días mas rapido se realizo la clasificación.\n",
    "\n",
    "de 0 a 7 días ---> Excelente\n",
    "de 8 a 49 días --> muy bueno\n",
    "de 50 a 241 días --> bueno\n",
    "de 242 a 913 días --> aceptable"
   ]
  },
  {
   "cell_type": "code",
   "execution_count": 124,
   "metadata": {},
   "outputs": [
    {
     "data": {
      "text/plain": [
       "count                           4345\n",
       "mean     147 days 16:51:48.676639816\n",
       "std      206 days 16:52:03.428705850\n",
       "min                  0 days 00:00:00\n",
       "25%                  7 days 00:00:00\n",
       "50%                 49 days 00:00:00\n",
       "75%                241 days 00:00:00\n",
       "max                913 days 00:00:00\n",
       "Name: diferencia_fecha, dtype: object"
      ]
     },
     "execution_count": 124,
     "metadata": {},
     "output_type": "execute_result"
    }
   ],
   "source": [
    "depositos[\"diferencia_fecha\"].describe()"
   ]
  },
  {
   "attachments": {},
   "cell_type": "markdown",
   "metadata": {},
   "source": [
    "Clasificación: \n",
    "\n",
    "0 a 7 días ---> Excelente\n",
    "8 a 49 días --> muy bueno\n",
    "50 a 241 días --> bueno\n",
    "242 a 913 días --> aceptable"
   ]
  },
  {
   "cell_type": "code",
   "execution_count": 125,
   "metadata": {},
   "outputs": [],
   "source": [
    "conditions = [(depositos[\"diferencia_fecha\"]<= \"7 days\"), \n",
    "               (depositos[\"diferencia_fecha\"]>= \"8 days\") & (depositos[\"diferencia_fecha\"]<= \"49 days\"),\n",
    "               (depositos[\"diferencia_fecha\"]>= \"50 days\") & (depositos[\"diferencia_fecha\"]<= \"241 days\"),\n",
    "               (depositos[\"diferencia_fecha\"]>= \"242 days\") ]\n",
    "values = [\"excelente\",\"muy_buena\",\"buena\",\"aceptable\"]\n",
    "depositos[\"category_cliente_fecha_deposito\"] = np.select(conditions, values)"
   ]
  },
  {
   "cell_type": "code",
   "execution_count": 126,
   "metadata": {},
   "outputs": [
    {
     "data": {
      "text/html": [
       "<div>\n",
       "<style scoped>\n",
       "    .dataframe tbody tr th:only-of-type {\n",
       "        vertical-align: middle;\n",
       "    }\n",
       "\n",
       "    .dataframe tbody tr th {\n",
       "        vertical-align: top;\n",
       "    }\n",
       "\n",
       "    .dataframe thead th {\n",
       "        text-align: right;\n",
       "    }\n",
       "</style>\n",
       "<table border=\"1\" class=\"dataframe\">\n",
       "  <thead>\n",
       "    <tr style=\"text-align: right;\">\n",
       "      <th></th>\n",
       "      <th>usuarioId</th>\n",
       "      <th>maplocation_name</th>\n",
       "      <th>valor_operacion</th>\n",
       "      <th>category_cliente</th>\n",
       "      <th>fecha_operacion</th>\n",
       "      <th>hora_operacion</th>\n",
       "      <th>fecha_creacion_usuario</th>\n",
       "      <th>hora_creacio_usuario</th>\n",
       "      <th>diferencia_fecha</th>\n",
       "      <th>category_cliente_fecha_deposito</th>\n",
       "    </tr>\n",
       "  </thead>\n",
       "  <tbody>\n",
       "    <tr>\n",
       "      <th>0</th>\n",
       "      <td>1000</td>\n",
       "      <td>CC Plaza de las Américas  - Plaza Mariposa</td>\n",
       "      <td>2738500</td>\n",
       "      <td>excelente</td>\n",
       "      <td>2022-01-14</td>\n",
       "      <td>13:07:56</td>\n",
       "      <td>2022-01-09</td>\n",
       "      <td>19:23:18.332689</td>\n",
       "      <td>5 days</td>\n",
       "      <td>excelente</td>\n",
       "    </tr>\n",
       "    <tr>\n",
       "      <th>1</th>\n",
       "      <td>1001</td>\n",
       "      <td>CC Plaza de las Américas  - Plaza Mariposa</td>\n",
       "      <td>9000</td>\n",
       "      <td>aceptable</td>\n",
       "      <td>2022-02-06</td>\n",
       "      <td>13:11:25</td>\n",
       "      <td>2022-01-10</td>\n",
       "      <td>15:19:29.419075</td>\n",
       "      <td>27 days</td>\n",
       "      <td>muy_buena</td>\n",
       "    </tr>\n",
       "    <tr>\n",
       "      <th>2</th>\n",
       "      <td>1002</td>\n",
       "      <td>Universidad de los Andes - ML Piso 5</td>\n",
       "      <td>18000</td>\n",
       "      <td>aceptable</td>\n",
       "      <td>2022-02-23</td>\n",
       "      <td>14:01:56</td>\n",
       "      <td>2021-08-25</td>\n",
       "      <td>12:44:48.524941</td>\n",
       "      <td>182 days</td>\n",
       "      <td>buena</td>\n",
       "    </tr>\n",
       "    <tr>\n",
       "      <th>3</th>\n",
       "      <td>1003</td>\n",
       "      <td>CC Plaza de las Américas  - Plaza Mariposa</td>\n",
       "      <td>65000</td>\n",
       "      <td>aceptable</td>\n",
       "      <td>2021-12-16</td>\n",
       "      <td>12:09:45</td>\n",
       "      <td>2021-07-17</td>\n",
       "      <td>17:11:16.766291</td>\n",
       "      <td>152 days</td>\n",
       "      <td>buena</td>\n",
       "    </tr>\n",
       "    <tr>\n",
       "      <th>4</th>\n",
       "      <td>1004</td>\n",
       "      <td>CC Plaza de las Américas  - Plaza Mariposa</td>\n",
       "      <td>1500000</td>\n",
       "      <td>muy_buena</td>\n",
       "      <td>2022-01-25</td>\n",
       "      <td>12:00:18</td>\n",
       "      <td>2022-01-11</td>\n",
       "      <td>15:59:27.651994</td>\n",
       "      <td>14 days</td>\n",
       "      <td>muy_buena</td>\n",
       "    </tr>\n",
       "    <tr>\n",
       "      <th>...</th>\n",
       "      <td>...</td>\n",
       "      <td>...</td>\n",
       "      <td>...</td>\n",
       "      <td>...</td>\n",
       "      <td>...</td>\n",
       "      <td>...</td>\n",
       "      <td>...</td>\n",
       "      <td>...</td>\n",
       "      <td>...</td>\n",
       "      <td>...</td>\n",
       "    </tr>\n",
       "    <tr>\n",
       "      <th>4340</th>\n",
       "      <td>5340</td>\n",
       "      <td>CC Los Molinos - Zona Montaña Nivel 2</td>\n",
       "      <td>8500</td>\n",
       "      <td>aceptable</td>\n",
       "      <td>2021-12-26</td>\n",
       "      <td>13:29:06</td>\n",
       "      <td>2021-02-26</td>\n",
       "      <td>09:04:03.443362</td>\n",
       "      <td>303 days</td>\n",
       "      <td>aceptable</td>\n",
       "    </tr>\n",
       "    <tr>\n",
       "      <th>4341</th>\n",
       "      <td>5341</td>\n",
       "      <td>CC Los Molinos - Zona Montaña Nivel 2</td>\n",
       "      <td>18000</td>\n",
       "      <td>aceptable</td>\n",
       "      <td>2022-01-23</td>\n",
       "      <td>14:32:37</td>\n",
       "      <td>2022-01-23</td>\n",
       "      <td>14:31:03.394729</td>\n",
       "      <td>0 days</td>\n",
       "      <td>excelente</td>\n",
       "    </tr>\n",
       "    <tr>\n",
       "      <th>4342</th>\n",
       "      <td>5342</td>\n",
       "      <td>CC Plaza de las Américas  - Plaza Mariposa</td>\n",
       "      <td>35000</td>\n",
       "      <td>aceptable</td>\n",
       "      <td>2021-12-06</td>\n",
       "      <td>19:33:24</td>\n",
       "      <td>2021-05-14</td>\n",
       "      <td>15:08:33.500127</td>\n",
       "      <td>206 days</td>\n",
       "      <td>buena</td>\n",
       "    </tr>\n",
       "    <tr>\n",
       "      <th>4343</th>\n",
       "      <td>5343</td>\n",
       "      <td>CC Los Molinos - Zona Montaña Nivel 2</td>\n",
       "      <td>1262000</td>\n",
       "      <td>muy_buena</td>\n",
       "      <td>2022-01-24</td>\n",
       "      <td>11:03:38</td>\n",
       "      <td>2021-12-19</td>\n",
       "      <td>16:03:35.472917</td>\n",
       "      <td>36 days</td>\n",
       "      <td>muy_buena</td>\n",
       "    </tr>\n",
       "    <tr>\n",
       "      <th>4344</th>\n",
       "      <td>5344</td>\n",
       "      <td>CC Plaza de las Américas  - Plaza Mariposa</td>\n",
       "      <td>1000</td>\n",
       "      <td>aceptable</td>\n",
       "      <td>2022-02-12</td>\n",
       "      <td>11:58:57</td>\n",
       "      <td>2022-02-12</td>\n",
       "      <td>11:51:40.981069</td>\n",
       "      <td>0 days</td>\n",
       "      <td>excelente</td>\n",
       "    </tr>\n",
       "  </tbody>\n",
       "</table>\n",
       "<p>4345 rows × 10 columns</p>\n",
       "</div>"
      ],
      "text/plain": [
       "      usuarioId                            maplocation_name  valor_operacion  \\\n",
       "0          1000  CC Plaza de las Américas  - Plaza Mariposa          2738500   \n",
       "1          1001  CC Plaza de las Américas  - Plaza Mariposa             9000   \n",
       "2          1002        Universidad de los Andes - ML Piso 5            18000   \n",
       "3          1003  CC Plaza de las Américas  - Plaza Mariposa            65000   \n",
       "4          1004  CC Plaza de las Américas  - Plaza Mariposa          1500000   \n",
       "...         ...                                         ...              ...   \n",
       "4340       5340       CC Los Molinos - Zona Montaña Nivel 2             8500   \n",
       "4341       5341       CC Los Molinos - Zona Montaña Nivel 2            18000   \n",
       "4342       5342  CC Plaza de las Américas  - Plaza Mariposa            35000   \n",
       "4343       5343       CC Los Molinos - Zona Montaña Nivel 2          1262000   \n",
       "4344       5344  CC Plaza de las Américas  - Plaza Mariposa             1000   \n",
       "\n",
       "     category_cliente fecha_operacion hora_operacion fecha_creacion_usuario  \\\n",
       "0           excelente      2022-01-14       13:07:56             2022-01-09   \n",
       "1           aceptable      2022-02-06       13:11:25             2022-01-10   \n",
       "2           aceptable      2022-02-23       14:01:56             2021-08-25   \n",
       "3           aceptable      2021-12-16       12:09:45             2021-07-17   \n",
       "4           muy_buena      2022-01-25       12:00:18             2022-01-11   \n",
       "...               ...             ...            ...                    ...   \n",
       "4340        aceptable      2021-12-26       13:29:06             2021-02-26   \n",
       "4341        aceptable      2022-01-23       14:32:37             2022-01-23   \n",
       "4342        aceptable      2021-12-06       19:33:24             2021-05-14   \n",
       "4343        muy_buena      2022-01-24       11:03:38             2021-12-19   \n",
       "4344        aceptable      2022-02-12       11:58:57             2022-02-12   \n",
       "\n",
       "     hora_creacio_usuario diferencia_fecha category_cliente_fecha_deposito  \n",
       "0         19:23:18.332689           5 days                       excelente  \n",
       "1         15:19:29.419075          27 days                       muy_buena  \n",
       "2         12:44:48.524941         182 days                           buena  \n",
       "3         17:11:16.766291         152 days                           buena  \n",
       "4         15:59:27.651994          14 days                       muy_buena  \n",
       "...                   ...              ...                             ...  \n",
       "4340      09:04:03.443362         303 days                       aceptable  \n",
       "4341      14:31:03.394729           0 days                       excelente  \n",
       "4342      15:08:33.500127         206 days                           buena  \n",
       "4343      16:03:35.472917          36 days                       muy_buena  \n",
       "4344      11:51:40.981069           0 days                       excelente  \n",
       "\n",
       "[4345 rows x 10 columns]"
      ]
     },
     "execution_count": 126,
     "metadata": {},
     "output_type": "execute_result"
    }
   ],
   "source": [
    "depositos"
   ]
  },
  {
   "attachments": {},
   "cell_type": "markdown",
   "metadata": {},
   "source": [
    "Con el objetivo de unificar las 2 clasificaciones realizadas anteriormente, por un lado la cantidad depositada y la fecha en que se realizo el deposito, se crea una columna para  clasificar globalmente a los usuarios teniendo en cuenta las clasificaciones anteriores.\n",
    "\n",
    "Si el usuario clasifica en la columna category_cliente, como:\n",
    "- excelente y tambien clasifica como excelente en la columna category_cliente_fecha_deposito, recibe un puntaje de 10.\n",
    "- excelente y clasifica como muy_buena en la columna category_cliente_fecha_deposito, recibe un puntaje de 9.\n",
    "- excelente y clasifica como buena en la columna category_cliente_fecha_deposito, recibe un puntaje de 8.\n",
    "- excelente y clasifica como aceptable en la columna category_cliente_fecha_deposito, recibe un puntaje de 7.\n",
    "\n",
    "- muy_buena y clasifica como excelente en la columna category_cliente_fecha_deposito, recibe un puntaje de 9.\n",
    "- muy_buena y tambien clasifica como muy_buena en la columna category_cliente_fecha_deposito, recibe un puntaje de 8.\n",
    "- muy_buena y clasifica como buena en la columna category_cliente_fecha_deposito, recibe un puntaje de 7.\n",
    "- muy_buena y clasifica como aceptable en la columna category_cliente_fecha_deposito, recibe un puntaje de 6.\n",
    "\n",
    "- buena y clasifica como excelente en la columna category_cliente_fecha_deposito, recibe un puntaje de 8.\n",
    "- buena y clasifica como muy_buena en la columna category_cliente_fecha_deposito, recibe un puntaje de 7.\n",
    "- buena y clasifica como buena en la columna category_cliente_fecha_deposito, recibe un puntaje de 6.\n",
    "- buena y clasifica como aceptable en la columna category_cliente_fecha_deposito, recibe un puntaje de 5.\n",
    "\n",
    "- aceptable y clasifica como excelente en la columna category_cliente_fecha_deposito, recibe un puntaje de 7.\n",
    "- aceptable y clasifica como muy_buena en la columna category_cliente_fecha_deposito, recibe un puntaje de 6.\n",
    "- aceptable y clasifica como buena en la columna category_cliente_fecha_deposito, recibe un puntaje de 5.\n",
    "- aceptable y clasifica como aceptable en la columna category_cliente_fecha_deposito, recibe un puntaje de 4."
   ]
  },
  {
   "attachments": {},
   "cell_type": "markdown",
   "metadata": {},
   "source": [
    "Se puede observar entonces que la columna mas importante para la clasificación es la de la cantidad depositada por el usuario."
   ]
  },
  {
   "cell_type": "code",
   "execution_count": 127,
   "metadata": {},
   "outputs": [],
   "source": [
    "conditions = [(depositos[\"category_cliente\"] == \"excelente\") & (depositos[\"category_cliente_fecha_deposito\"] == \"excelente\"),\n",
    "(depositos[\"category_cliente\"] == \"excelente\") & (depositos[\"category_cliente_fecha_deposito\"] == \"muy_buena\"),\n",
    "(depositos[\"category_cliente\"] == \"excelente\") & (depositos[\"category_cliente_fecha_deposito\"] == \"buena\"),\n",
    "(depositos[\"category_cliente\"] == \"excelente\") & (depositos[\"category_cliente_fecha_deposito\"] == \"aceptable\"),\n",
    "\n",
    "(depositos[\"category_cliente\"] == \"muy_buena\") & (depositos[\"category_cliente_fecha_deposito\"] == \"excelente\"),\n",
    "(depositos[\"category_cliente\"] == \"muy_buena\") & (depositos[\"category_cliente_fecha_deposito\"] == \"muy_buena\"),\n",
    "(depositos[\"category_cliente\"] == \"muy_buena\") & (depositos[\"category_cliente_fecha_deposito\"] == \"buena\"),\n",
    "(depositos[\"category_cliente\"] == \"muy_buena\") & (depositos[\"category_cliente_fecha_deposito\"] == \"aceptable\"),\n",
    "\n",
    "(depositos[\"category_cliente\"] == \"buena\") & (depositos[\"category_cliente_fecha_deposito\"] == \"excelente\"),\n",
    "(depositos[\"category_cliente\"] == \"buena\") & (depositos[\"category_cliente_fecha_deposito\"] == \"muy_buena\"),\n",
    "(depositos[\"category_cliente\"] == \"buena\") & (depositos[\"category_cliente_fecha_deposito\"] == \"buena\"),\n",
    "(depositos[\"category_cliente\"] == \"buena\") & (depositos[\"category_cliente_fecha_deposito\"] == \"aceptable\"),\n",
    "\n",
    "(depositos[\"category_cliente\"] == \"aceptable\") & (depositos[\"category_cliente_fecha_deposito\"] == \"excelente\"),\n",
    "(depositos[\"category_cliente\"] == \"aceptable\") & (depositos[\"category_cliente_fecha_deposito\"] == \"muy_buena\"),\n",
    "(depositos[\"category_cliente\"] == \"aceptable\") & (depositos[\"category_cliente_fecha_deposito\"] == \"buena\"),\n",
    "(depositos[\"category_cliente\"] == \"aceptable\") & (depositos[\"category_cliente_fecha_deposito\"] == \"aceptable\") ]\n",
    "               \n",
    "values = [\"10\", \"9\", \"8\", \"7\",   \"9\", \"8\", \"7\",\"6\",   \"8\", \"7\",\"6\",\"5\",  \"7\",\"6\",\"5\",\"4\"]\n",
    "depositos[\"clasificacion_cliente\"] = np.select(conditions, values)"
   ]
  },
  {
   "cell_type": "code",
   "execution_count": 128,
   "metadata": {},
   "outputs": [
    {
     "data": {
      "text/html": [
       "<div>\n",
       "<style scoped>\n",
       "    .dataframe tbody tr th:only-of-type {\n",
       "        vertical-align: middle;\n",
       "    }\n",
       "\n",
       "    .dataframe tbody tr th {\n",
       "        vertical-align: top;\n",
       "    }\n",
       "\n",
       "    .dataframe thead th {\n",
       "        text-align: right;\n",
       "    }\n",
       "</style>\n",
       "<table border=\"1\" class=\"dataframe\">\n",
       "  <thead>\n",
       "    <tr style=\"text-align: right;\">\n",
       "      <th></th>\n",
       "      <th>usuarioId</th>\n",
       "      <th>maplocation_name</th>\n",
       "      <th>valor_operacion</th>\n",
       "      <th>category_cliente</th>\n",
       "      <th>fecha_operacion</th>\n",
       "      <th>hora_operacion</th>\n",
       "      <th>fecha_creacion_usuario</th>\n",
       "      <th>hora_creacio_usuario</th>\n",
       "      <th>diferencia_fecha</th>\n",
       "      <th>category_cliente_fecha_deposito</th>\n",
       "      <th>clasificacion_cliente</th>\n",
       "    </tr>\n",
       "  </thead>\n",
       "  <tbody>\n",
       "    <tr>\n",
       "      <th>0</th>\n",
       "      <td>1000</td>\n",
       "      <td>CC Plaza de las Américas  - Plaza Mariposa</td>\n",
       "      <td>2738500</td>\n",
       "      <td>excelente</td>\n",
       "      <td>2022-01-14</td>\n",
       "      <td>13:07:56</td>\n",
       "      <td>2022-01-09</td>\n",
       "      <td>19:23:18.332689</td>\n",
       "      <td>5 days</td>\n",
       "      <td>excelente</td>\n",
       "      <td>10</td>\n",
       "    </tr>\n",
       "    <tr>\n",
       "      <th>1</th>\n",
       "      <td>1001</td>\n",
       "      <td>CC Plaza de las Américas  - Plaza Mariposa</td>\n",
       "      <td>9000</td>\n",
       "      <td>aceptable</td>\n",
       "      <td>2022-02-06</td>\n",
       "      <td>13:11:25</td>\n",
       "      <td>2022-01-10</td>\n",
       "      <td>15:19:29.419075</td>\n",
       "      <td>27 days</td>\n",
       "      <td>muy_buena</td>\n",
       "      <td>6</td>\n",
       "    </tr>\n",
       "    <tr>\n",
       "      <th>2</th>\n",
       "      <td>1002</td>\n",
       "      <td>Universidad de los Andes - ML Piso 5</td>\n",
       "      <td>18000</td>\n",
       "      <td>aceptable</td>\n",
       "      <td>2022-02-23</td>\n",
       "      <td>14:01:56</td>\n",
       "      <td>2021-08-25</td>\n",
       "      <td>12:44:48.524941</td>\n",
       "      <td>182 days</td>\n",
       "      <td>buena</td>\n",
       "      <td>5</td>\n",
       "    </tr>\n",
       "    <tr>\n",
       "      <th>3</th>\n",
       "      <td>1003</td>\n",
       "      <td>CC Plaza de las Américas  - Plaza Mariposa</td>\n",
       "      <td>65000</td>\n",
       "      <td>aceptable</td>\n",
       "      <td>2021-12-16</td>\n",
       "      <td>12:09:45</td>\n",
       "      <td>2021-07-17</td>\n",
       "      <td>17:11:16.766291</td>\n",
       "      <td>152 days</td>\n",
       "      <td>buena</td>\n",
       "      <td>5</td>\n",
       "    </tr>\n",
       "    <tr>\n",
       "      <th>4</th>\n",
       "      <td>1004</td>\n",
       "      <td>CC Plaza de las Américas  - Plaza Mariposa</td>\n",
       "      <td>1500000</td>\n",
       "      <td>muy_buena</td>\n",
       "      <td>2022-01-25</td>\n",
       "      <td>12:00:18</td>\n",
       "      <td>2022-01-11</td>\n",
       "      <td>15:59:27.651994</td>\n",
       "      <td>14 days</td>\n",
       "      <td>muy_buena</td>\n",
       "      <td>8</td>\n",
       "    </tr>\n",
       "    <tr>\n",
       "      <th>...</th>\n",
       "      <td>...</td>\n",
       "      <td>...</td>\n",
       "      <td>...</td>\n",
       "      <td>...</td>\n",
       "      <td>...</td>\n",
       "      <td>...</td>\n",
       "      <td>...</td>\n",
       "      <td>...</td>\n",
       "      <td>...</td>\n",
       "      <td>...</td>\n",
       "      <td>...</td>\n",
       "    </tr>\n",
       "    <tr>\n",
       "      <th>4340</th>\n",
       "      <td>5340</td>\n",
       "      <td>CC Los Molinos - Zona Montaña Nivel 2</td>\n",
       "      <td>8500</td>\n",
       "      <td>aceptable</td>\n",
       "      <td>2021-12-26</td>\n",
       "      <td>13:29:06</td>\n",
       "      <td>2021-02-26</td>\n",
       "      <td>09:04:03.443362</td>\n",
       "      <td>303 days</td>\n",
       "      <td>aceptable</td>\n",
       "      <td>4</td>\n",
       "    </tr>\n",
       "    <tr>\n",
       "      <th>4341</th>\n",
       "      <td>5341</td>\n",
       "      <td>CC Los Molinos - Zona Montaña Nivel 2</td>\n",
       "      <td>18000</td>\n",
       "      <td>aceptable</td>\n",
       "      <td>2022-01-23</td>\n",
       "      <td>14:32:37</td>\n",
       "      <td>2022-01-23</td>\n",
       "      <td>14:31:03.394729</td>\n",
       "      <td>0 days</td>\n",
       "      <td>excelente</td>\n",
       "      <td>7</td>\n",
       "    </tr>\n",
       "    <tr>\n",
       "      <th>4342</th>\n",
       "      <td>5342</td>\n",
       "      <td>CC Plaza de las Américas  - Plaza Mariposa</td>\n",
       "      <td>35000</td>\n",
       "      <td>aceptable</td>\n",
       "      <td>2021-12-06</td>\n",
       "      <td>19:33:24</td>\n",
       "      <td>2021-05-14</td>\n",
       "      <td>15:08:33.500127</td>\n",
       "      <td>206 days</td>\n",
       "      <td>buena</td>\n",
       "      <td>5</td>\n",
       "    </tr>\n",
       "    <tr>\n",
       "      <th>4343</th>\n",
       "      <td>5343</td>\n",
       "      <td>CC Los Molinos - Zona Montaña Nivel 2</td>\n",
       "      <td>1262000</td>\n",
       "      <td>muy_buena</td>\n",
       "      <td>2022-01-24</td>\n",
       "      <td>11:03:38</td>\n",
       "      <td>2021-12-19</td>\n",
       "      <td>16:03:35.472917</td>\n",
       "      <td>36 days</td>\n",
       "      <td>muy_buena</td>\n",
       "      <td>8</td>\n",
       "    </tr>\n",
       "    <tr>\n",
       "      <th>4344</th>\n",
       "      <td>5344</td>\n",
       "      <td>CC Plaza de las Américas  - Plaza Mariposa</td>\n",
       "      <td>1000</td>\n",
       "      <td>aceptable</td>\n",
       "      <td>2022-02-12</td>\n",
       "      <td>11:58:57</td>\n",
       "      <td>2022-02-12</td>\n",
       "      <td>11:51:40.981069</td>\n",
       "      <td>0 days</td>\n",
       "      <td>excelente</td>\n",
       "      <td>7</td>\n",
       "    </tr>\n",
       "  </tbody>\n",
       "</table>\n",
       "<p>4345 rows × 11 columns</p>\n",
       "</div>"
      ],
      "text/plain": [
       "      usuarioId                            maplocation_name  valor_operacion  \\\n",
       "0          1000  CC Plaza de las Américas  - Plaza Mariposa          2738500   \n",
       "1          1001  CC Plaza de las Américas  - Plaza Mariposa             9000   \n",
       "2          1002        Universidad de los Andes - ML Piso 5            18000   \n",
       "3          1003  CC Plaza de las Américas  - Plaza Mariposa            65000   \n",
       "4          1004  CC Plaza de las Américas  - Plaza Mariposa          1500000   \n",
       "...         ...                                         ...              ...   \n",
       "4340       5340       CC Los Molinos - Zona Montaña Nivel 2             8500   \n",
       "4341       5341       CC Los Molinos - Zona Montaña Nivel 2            18000   \n",
       "4342       5342  CC Plaza de las Américas  - Plaza Mariposa            35000   \n",
       "4343       5343       CC Los Molinos - Zona Montaña Nivel 2          1262000   \n",
       "4344       5344  CC Plaza de las Américas  - Plaza Mariposa             1000   \n",
       "\n",
       "     category_cliente fecha_operacion hora_operacion fecha_creacion_usuario  \\\n",
       "0           excelente      2022-01-14       13:07:56             2022-01-09   \n",
       "1           aceptable      2022-02-06       13:11:25             2022-01-10   \n",
       "2           aceptable      2022-02-23       14:01:56             2021-08-25   \n",
       "3           aceptable      2021-12-16       12:09:45             2021-07-17   \n",
       "4           muy_buena      2022-01-25       12:00:18             2022-01-11   \n",
       "...               ...             ...            ...                    ...   \n",
       "4340        aceptable      2021-12-26       13:29:06             2021-02-26   \n",
       "4341        aceptable      2022-01-23       14:32:37             2022-01-23   \n",
       "4342        aceptable      2021-12-06       19:33:24             2021-05-14   \n",
       "4343        muy_buena      2022-01-24       11:03:38             2021-12-19   \n",
       "4344        aceptable      2022-02-12       11:58:57             2022-02-12   \n",
       "\n",
       "     hora_creacio_usuario diferencia_fecha category_cliente_fecha_deposito  \\\n",
       "0         19:23:18.332689           5 days                       excelente   \n",
       "1         15:19:29.419075          27 days                       muy_buena   \n",
       "2         12:44:48.524941         182 days                           buena   \n",
       "3         17:11:16.766291         152 days                           buena   \n",
       "4         15:59:27.651994          14 days                       muy_buena   \n",
       "...                   ...              ...                             ...   \n",
       "4340      09:04:03.443362         303 days                       aceptable   \n",
       "4341      14:31:03.394729           0 days                       excelente   \n",
       "4342      15:08:33.500127         206 days                           buena   \n",
       "4343      16:03:35.472917          36 days                       muy_buena   \n",
       "4344      11:51:40.981069           0 days                       excelente   \n",
       "\n",
       "     clasificacion_cliente  \n",
       "0                       10  \n",
       "1                        6  \n",
       "2                        5  \n",
       "3                        5  \n",
       "4                        8  \n",
       "...                    ...  \n",
       "4340                     4  \n",
       "4341                     7  \n",
       "4342                     5  \n",
       "4343                     8  \n",
       "4344                     7  \n",
       "\n",
       "[4345 rows x 11 columns]"
      ]
     },
     "execution_count": 128,
     "metadata": {},
     "output_type": "execute_result"
    }
   ],
   "source": [
    "depositos"
   ]
  },
  {
   "attachments": {},
   "cell_type": "markdown",
   "metadata": {},
   "source": [
    "Podemos ver como quedan clasficados los usuarios teniendo en cuenta todos los anteriores criterios.\n",
    "\n",
    "Observamos que la clasificacion 7 teniendo en cuenta los anteriores criterios, es la que mas se repite."
   ]
  },
  {
   "cell_type": "code",
   "execution_count": 129,
   "metadata": {},
   "outputs": [
    {
     "data": {
      "text/plain": [
       "7     1157\n",
       "6     1102\n",
       "5      942\n",
       "4      711\n",
       "8      256\n",
       "9      137\n",
       "10      40\n",
       "Name: clasificacion_cliente, dtype: int64"
      ]
     },
     "execution_count": 129,
     "metadata": {},
     "output_type": "execute_result"
    }
   ],
   "source": [
    "depositos[\"clasificacion_cliente\"].value_counts()"
   ]
  },
  {
   "cell_type": "code",
   "execution_count": 130,
   "metadata": {},
   "outputs": [
    {
     "data": {
      "text/plain": [
       "<AxesSubplot: >"
      ]
     },
     "execution_count": 130,
     "metadata": {},
     "output_type": "execute_result"
    },
    {
     "data": {
      "image/png": "[encoded data removed]",
      "text/plain": [
       "<Figure size 432x288 with 1 Axes>"
      ]
     },
     "metadata": {
      "needs_background": "light"
     },
     "output_type": "display_data"
    }
   ],
   "source": [
    "depositos[\"clasificacion_cliente\"].value_counts().plot(kind=\"bar\")"
   ]
  },
  {
   "attachments": {},
   "cell_type": "markdown",
   "metadata": {},
   "source": [
    "Se importa el data set modificado para su analisis posterior en Power BI."
   ]
  },
  {
   "cell_type": "code",
   "execution_count": 131,
   "metadata": {},
   "outputs": [],
   "source": [
    "depositos.to_excel(\"depositos_oinks_modificado.xlsx\", index=False)"
   ]
  },
  {
   "cell_type": "code",
   "execution_count": null,
   "metadata": {},
   "outputs": [],
   "source": []
  },
  {
   "cell_type": "code",
   "execution_count": null,
   "metadata": {},
   "outputs": [],
   "source": []
  }
 ],
 "metadata": {
  "kernelspec": {
   "display_name": "Python 3",
   "language": "python",
   "name": "python3"
  },
  "language_info": {
   "codemirror_mode": {
    "name": "ipython",
    "version": 3
   },
   "file_extension": ".py",
   "mimetype": "text/x-python",
   "name": "python",
   "nbconvert_exporter": "python",
   "pygments_lexer": "ipython3",
   "version": "3.10.3"
  },
  "orig_nbformat": 4,
  "vscode": {
   "interpreter": {
    "hash": "27f6fea6f47ae512550f0b8facdbd035a93e1dd89633f7bf2dd00a2502c71d0d"
   }
  }
 },
 "nbformat": 4,
 "nbformat_minor": 2
}
